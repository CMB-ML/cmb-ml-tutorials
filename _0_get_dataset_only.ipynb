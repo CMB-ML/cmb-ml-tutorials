{
 "cells": [
  {
   "cell_type": "markdown",
   "metadata": {},
   "source": [
    "# No-Set-Up Dataset Downloading"
   ]
  },
  {
   "cell_type": "markdown",
   "metadata": {},
   "source": [
    "CMB-ML has been set up as a large, interlinked system. Perhaps you don't want that. In this notebook, I assume you simply want to download the dataset (or a portion of it). Afterwards, you can iterate through the dataset as you see fit. \n",
    "\n",
    "I do ask that any work derived from this please release your source code. If your results are to be included alongside ours, reproducibility is required.\n",
    "\n",
    "This notebook needs to use the CMB-ML framework, as installed following instructions in the README (TODO: Revisit this. Would it be better to have the utilities required here? How much is required?)"
   ]
  },
  {
   "cell_type": "markdown",
   "metadata": {},
   "source": [
    "The next cell is the only one that needs editing.\n",
    "\n",
    "- `dataset_dir_str` The target directory for the dataset\n",
    "- `temp_dir_str`: A temp directory\n",
    "    - The directory in which the downloaded archive will be stored, temporarily\n",
    "    - The archive will be deleted automatically after extraction\n",
    "- `dataset_name`: The dataset to download\n",
    "    - Options are 'CMB-ML_128_1450' or 'CMB-ML_512_1450'\n",
    "    - This is used to choose the correct upload records to use\n",
    "    - It also affects the target directory (change that below, where noted)\n",
    "- `split`: The portion of the dataset to download.\n",
    "    - Options are \"Test\", \"Valid\", and \"Train\"\n",
    "- `n_sims`: The number of simulations to download. \n",
    "    - If $3$, then `sim0000`, `sim0001`, and `sim0002` will be downloaded.\n",
    "    - This behavior should be easy to change, below."
   ]
  },
  {
   "cell_type": "code",
   "execution_count": 1,
   "metadata": {},
   "outputs": [],
   "source": [
    "dataset_dir_str = '/data/jim/CMB_Data/Datasets'\n",
    "temp_dir_str = '/data/jim/CMB_Data/Temp'\n",
    "dataset_name = 'CMB-ML_512_1450'\n",
    "\n",
    "split = \"Test\"\n",
    "n_sims = 3"
   ]
  },
  {
   "cell_type": "code",
   "execution_count": 2,
   "metadata": {},
   "outputs": [],
   "source": [
    "import sys\n",
    "import os\n",
    "\n",
    "repo_root = os.path.abspath(os.path.join(os.getcwd(), \"..\"))\n",
    "sys.path.insert(0, repo_root)"
   ]
  },
  {
   "cell_type": "code",
   "execution_count": 3,
   "metadata": {},
   "outputs": [],
   "source": [
    "import yaml\n",
    "from tqdm import tqdm\n",
    "\n",
    "from pathlib import Path\n",
    "from cmbml.get_data.utils.get_from_shared_link import download_shared_link_info, download_file"
   ]
  },
  {
   "cell_type": "markdown",
   "metadata": {},
   "source": [
    "Confirm here that the output is where you want it to be. Optionally, change the dataset directory to not include the dataset name (in the first line)."
   ]
  },
  {
   "cell_type": "code",
   "execution_count": 4,
   "metadata": {},
   "outputs": [
    {
     "name": "stdout",
     "output_type": "stream",
     "text": [
      "/data/jim/CMB_Data/Datasets/CMB-ML_512_1450\n",
      "/data/jim/CMB_Data/Temp\n"
     ]
    }
   ],
   "source": [
    "dataset_directory = Path(dataset_dir_str) / dataset_name\n",
    "temp_directory = Path(temp_dir_str)\n",
    "\n",
    "print(dataset_directory.absolute())\n",
    "print(temp_directory.absolute())"
   ]
  },
  {
   "cell_type": "code",
   "execution_count": 5,
   "metadata": {},
   "outputs": [
    {
     "name": "stdout",
     "output_type": "stream",
     "text": [
      "Downloading shared links for CMB-ML_512_1450 from the CMB-ML repo\n"
     ]
    },
    {
     "name": "stderr",
     "output_type": "stream",
     "text": [
      "                                                                                           \r"
     ]
    }
   ],
   "source": [
    "# Create directories\n",
    "dataset_directory.mkdir(parents=True, exist_ok=True)\n",
    "temp_directory.mkdir(parents=True, exist_ok=True)\n",
    "\n",
    "# Shared links from the file included in the repo\n",
    "json_path = f\"./assets/CMB-ML/upload_records_{dataset_name}.json\"\n",
    "json_path = Path(json_path)\n",
    "\n",
    "if not json_path.exists():\n",
    "    print(f\"Downloading shared links for {dataset_name} from the CMB-ML repo\")\n",
    "    json_path.parent.mkdir(parents=True, exist_ok=True)\n",
    "    \n",
    "    download_file(f\"https://raw.githubusercontent.com/CMB-ML/cmb-ml/refs/heads/main/assets/CMB-ML/upload_records_{dataset_name}.json\",\n",
    "                  destination=json_path,\n",
    "                  filesize=340000,\n",
    "                  tqdm_position=0)"
   ]
  },
  {
   "cell_type": "code",
   "execution_count": 6,
   "metadata": {},
   "outputs": [],
   "source": [
    "# Load the shared links using the default yaml library\n",
    "with open(json_path, 'r') as f:\n",
    "    all_shared_links = yaml.safe_load(f)"
   ]
  },
  {
   "cell_type": "code",
   "execution_count": 7,
   "metadata": {},
   "outputs": [
    {
     "name": "stderr",
     "output_type": "stream",
     "text": [
      "100%|██████████| 3/3 [00:36<00:00, 12.02s/it]\n"
     ]
    }
   ],
   "source": [
    "# Iterate over the number of simulations and download the data\n",
    "# tqdm is simply used to show a progress bar\n",
    "for i in tqdm(range(n_sims)):\n",
    "    key = f\"{split}_sim{i:04d}\"\n",
    "    shared_link = all_shared_links[key]\n",
    "    download_shared_link_info(shared_link, temp_directory, dataset_directory)"
   ]
  },
  {
   "cell_type": "markdown",
   "metadata": {},
   "source": [
    "At this point, you will have acquired files in the following structure (assuming the above settings):\n",
    "\n",
    "```\n",
    "└─ /path/to/Datasets\n",
    "      └─ CMB-ML_512_1450\n",
    "           ├─ Simulation\n",
    "           |    └─ Test\n",
    "           |         ├─ sim0000\n",
    "           |         |    ├─ cmb_map_fid.fits\n",
    "           |         |    ├─ obs_30_map.fits\n",
    "           |         |    ├─ obs_44_map.fits\n",
    "           |         |    ├─ obs_70_map.fits\n",
    "           |         |    ├─ obs_100_map.fits\n",
    "           |         |    ├─ obs_143_map.fits\n",
    "           |         |    ├─ obs_217_map.fits\n",
    "           |         |    ├─ obs_353_map.fits\n",
    "           |         |    ├─ obs_545_map.fits\n",
    "           |         |    └─ obs_857_map.fits\n",
    "           |         ├─ sim0001\n",
    "           |         |   ...\n",
    "           |         └─ sim0002\n",
    "           |             ...\n",
    "           └─ Simulation_Working\n",
    "                ├─ Simulation_C_Configs\n",
    "                |    └─ Test\n",
    "                |         ├─ sim0000\n",
    "                |         |   └─ wmap_params.yaml\n",
    "                |         ├─ sim0001\n",
    "                |         |    └─ wmap_params.yaml\n",
    "                |         └─ sim0002\n",
    "                |              └─ wmap_params.yaml\n",
    "                └─ Simulation_CMB_Power_Spectra\n",
    "                     └─ Test\n",
    "                          ├─ sim0000\n",
    "                          |    └─ cmb_ps_fid.txt\n",
    "                          ├─ sim0001\n",
    "                          |    └─ cmb_ps_fid.txt\n",
    "                          └─ sim0002\n",
    "                               └─ cmb_ps_fid.txt\n",
    "```"
   ]
  },
  {
   "cell_type": "markdown",
   "metadata": {},
   "source": [
    "Please reach out to us if you have issues."
   ]
  }
 ],
 "metadata": {
  "kernelspec": {
   "display_name": "cmb-ml",
   "language": "python",
   "name": "python3"
  },
  "language_info": {
   "codemirror_mode": {
    "name": "ipython",
    "version": 3
   },
   "file_extension": ".py",
   "mimetype": "text/x-python",
   "name": "python",
   "nbconvert_exporter": "python",
   "pygments_lexer": "ipython3",
   "version": "3.9.21"
  }
 },
 "nbformat": 4,
 "nbformat_minor": 2
}
