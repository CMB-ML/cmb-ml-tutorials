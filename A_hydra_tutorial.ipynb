{
 "cells": [
  {
   "cell_type": "markdown",
   "metadata": {},
   "source": [
    "# Hydra Configurations Tutorial"
   ]
  },
  {
   "cell_type": "markdown",
   "metadata": {},
   "source": [
    "## Introduction"
   ]
  },
  {
   "cell_type": "markdown",
   "metadata": {},
   "source": [
    "CMB-ML manages a complex pipeline that processes data across multiple stages. Each stage produces outputs that need to be tracked, reused, and processed in later stages. Without a clear framework, this can lead to disorganized code, redundant logic, and errors.\n",
    "\n",
    "The CMB-ML library offers a set of tools to manage the pipeline in a modular and scalable way. \n",
    "\n",
    "At the core of this approach is configuration management, which cleanly separates the logic of the process from its parameters. This separation ensures that the code remains streamlined while the details stay isolated and easy to manage.\n",
    "\n",
    "This notebook introduces Hydra, a tool developed by Meta to allow for elegant configuration management of complex programs."
   ]
  },
  {
   "cell_type": "markdown",
   "metadata": {},
   "source": [
    "## Contents\n",
    "View this notebook with [nbviewer](https://nbviewer.org/github/CMB-ML/cmb-ml/tree/main/demonstrations/A_hydra_tutorial.ipynb#Introduction) (or in your IDE) to enable these links.\n",
    "\n",
    "- [Simple configurations](#Simple-configurations)\n",
    "- [Nested configurations](#Nested-configurations)\n",
    "- [Lists in configurations](#Lists-in-configurations)\n",
    "- [The defaults list](#The-defaults-list)\n",
    "- [Hydra tools](#Other-features-Interpolation-Addition-and-Subtraction)\n",
    "- [Config initialization](#Initializing-the-config)\n",
    "- [Next Steps](#Next-steps)"
   ]
  },
  {
   "cell_type": "markdown",
   "metadata": {},
   "source": [
    "# Simple configurations"
   ]
  },
  {
   "cell_type": "markdown",
   "metadata": {},
   "source": [
    "Hydra is a Python library. Usually, it's used with modules (\"*.py\" files), but it can be made to work in Jupyter notebooks. That will be discussed more later. \n",
    "\n",
    "First, I'll show some simple examples of how it's used. I need to load the library and a few tools to work with it:"
   ]
  },
  {
   "cell_type": "code",
   "execution_count": 1,
   "metadata": {},
   "outputs": [],
   "source": [
    "import hydra\n",
    "from hydra import compose, initialize\n",
    "from omegaconf import DictConfig, OmegaConf"
   ]
  },
  {
   "cell_type": "markdown",
   "metadata": {},
   "source": [
    "To start, I'll use Hydra to load a configuration from [cfg/simple.yaml](./cfg/simple.yaml):"
   ]
  },
  {
   "cell_type": "code",
   "execution_count": 2,
   "metadata": {},
   "outputs": [],
   "source": [
    "with initialize(version_base=None, config_path=\"cfg\"):\n",
    "    cfg = compose(config_name='simple')"
   ]
  },
  {
   "cell_type": "markdown",
   "metadata": {},
   "source": [
    "That configuration has two simple parameters:\n",
    "\n",
    "``` yaml\n",
    "some_string: abc\n",
    "some_number: 3\n",
    "```\n",
    "\n",
    "I'll check the config:"
   ]
  },
  {
   "cell_type": "code",
   "execution_count": 3,
   "metadata": {},
   "outputs": [
    {
     "name": "stdout",
     "output_type": "stream",
     "text": [
      "some_string: abc\n",
      "some_number: 3\n",
      "\n"
     ]
    }
   ],
   "source": [
    "print(OmegaConf.to_yaml(cfg))"
   ]
  },
  {
   "cell_type": "markdown",
   "metadata": {},
   "source": [
    "I can access parameters in the config with two different styles. Then I can use that information. For instance:"
   ]
  },
  {
   "cell_type": "code",
   "execution_count": 4,
   "metadata": {},
   "outputs": [
    {
     "name": "stdout",
     "output_type": "stream",
     "text": [
      "abc\n",
      "abc\n",
      "abc\n"
     ]
    }
   ],
   "source": [
    "# Parameters can be accessed as dictionary keys\n",
    "n_repeats = cfg['some_number']\n",
    "\n",
    "# And parameters can be accessed as attributes, using \"dot notation\"\n",
    "my_text = cfg.some_string\n",
    "\n",
    "for i in range(n_repeats):\n",
    "    print(my_text)"
   ]
  },
  {
   "cell_type": "markdown",
   "metadata": {},
   "source": [
    "If I want to change parameters at runtime, I can do so using \"overrides.\" I'll show that in a bit."
   ]
  },
  {
   "cell_type": "markdown",
   "metadata": {},
   "source": [
    "# Nested configurations"
   ]
  },
  {
   "cell_type": "markdown",
   "metadata": {},
   "source": [
    "Parameters can also be nested, which allows for organization.\n",
    "\n",
    "I'll look at a different config, [cfg/simple2.yaml](./cfg/simple2.yaml):\n",
    "\n",
    "``` yaml\n",
    "icon1:\n",
    "  shape: square\n",
    "  color: blue\n",
    "icon2:\n",
    "  shape: circle\n",
    "  color: red\n",
    "```\n",
    "\n",
    "I'll check it:"
   ]
  },
  {
   "cell_type": "code",
   "execution_count": 5,
   "metadata": {},
   "outputs": [
    {
     "name": "stdout",
     "output_type": "stream",
     "text": [
      "icon1:\n",
      "  shape: square\n",
      "  color: blue\n",
      "icon2:\n",
      "  shape: circle\n",
      "  color: red\n",
      "\n"
     ]
    }
   ],
   "source": [
    "with initialize(version_base=None, config_path=\"cfg\"):\n",
    "    cfg = compose(config_name='simple2')\n",
    "\n",
    "print(OmegaConf.to_yaml(cfg))"
   ]
  },
  {
   "cell_type": "markdown",
   "metadata": {},
   "source": [
    "I can now look up the details for icon1 and icon2."
   ]
  },
  {
   "cell_type": "code",
   "execution_count": 6,
   "metadata": {},
   "outputs": [
    {
     "name": "stdout",
     "output_type": "stream",
     "text": [
      "🟦\n",
      "🔴\n"
     ]
    }
   ],
   "source": [
    "icon_mapping = {\n",
    "    ('square', 'blue'): '🟦',\n",
    "    ('circle', 'red'): '🔴',\n",
    "    ('square', 'red'): '🟥',\n",
    "    ('circle', 'blue'): '🔵'\n",
    "}\n",
    "\n",
    "print(icon_mapping[(cfg.icon1.shape, cfg.icon1.color)])\n",
    "print(icon_mapping[(cfg.icon2.shape, cfg.icon2.color)])"
   ]
  },
  {
   "cell_type": "markdown",
   "metadata": {},
   "source": [
    "Since both icons have the same structure, I could also:"
   ]
  },
  {
   "cell_type": "code",
   "execution_count": 7,
   "metadata": {},
   "outputs": [
    {
     "name": "stdout",
     "output_type": "stream",
     "text": [
      "🟦\n",
      "🔴\n"
     ]
    }
   ],
   "source": [
    "def print_icon(icon):\n",
    "    print(icon_mapping[(icon.shape, icon.color)])\n",
    "\n",
    "print_icon(cfg.icon1)\n",
    "print_icon(cfg.icon2)"
   ]
  },
  {
   "cell_type": "markdown",
   "metadata": {},
   "source": [
    "## Overrides"
   ]
  },
  {
   "cell_type": "markdown",
   "metadata": {},
   "source": [
    "At runtime, I may want to do something slightly different and change a parameter. I can do this in a simple way, using \"overrides.\" I'll change the color of one of the icons."
   ]
  },
  {
   "cell_type": "code",
   "execution_count": 8,
   "metadata": {},
   "outputs": [
    {
     "name": "stdout",
     "output_type": "stream",
     "text": [
      "icon1:\n",
      "  shape: circle\n",
      "  color: blue\n",
      "icon2:\n",
      "  shape: circle\n",
      "  color: red\n",
      "\n",
      "🔵\n",
      "🔴\n"
     ]
    }
   ],
   "source": [
    "with initialize(version_base=None, config_path=\"cfg\"):\n",
    "    cfg = compose(config_name='simple2',\n",
    "                  overrides=[\"icon1.shape=circle\"])\n",
    "\n",
    "print(OmegaConf.to_yaml(cfg))\n",
    "\n",
    "def print_icon(icon):\n",
    "    print(icon_mapping[(icon.shape, icon.color)])\n",
    "\n",
    "print_icon(cfg.icon1)\n",
    "print_icon(cfg.icon2)"
   ]
  },
  {
   "cell_type": "markdown",
   "metadata": {},
   "source": [
    "# Lists in configurations"
   ]
  },
  {
   "cell_type": "markdown",
   "metadata": {},
   "source": [
    "I named the icons `icon1` and `icon2`, but they're really the same thing, just multiple instances. Instead, a list of things may be more appropriate. Indeed, I can have a list in my configurations instead, as shown in [cfg/simple3.yaml](./cfg/simple3.yaml):\n",
    "\n",
    "``` yaml\n",
    "icons:\n",
    "  - shape: square\n",
    "    color: blue\n",
    "  - shape: circle\n",
    "    color: red\n",
    "```\n",
    "\n",
    "I'll check it:"
   ]
  },
  {
   "cell_type": "code",
   "execution_count": 9,
   "metadata": {},
   "outputs": [
    {
     "name": "stdout",
     "output_type": "stream",
     "text": [
      "icons:\n",
      "- shape: square\n",
      "  color: blue\n",
      "- shape: circle\n",
      "  color: red\n",
      "\n"
     ]
    }
   ],
   "source": [
    "with initialize(version_base=None, config_path=\"cfg\"):\n",
    "    cfg = compose(config_name='simple3')\n",
    "\n",
    "print(OmegaConf.to_yaml(cfg))"
   ]
  },
  {
   "cell_type": "markdown",
   "metadata": {},
   "source": [
    "This is a list of two dictionaries. Because it's a list, I can iterate through it:"
   ]
  },
  {
   "cell_type": "code",
   "execution_count": 10,
   "metadata": {},
   "outputs": [
    {
     "name": "stdout",
     "output_type": "stream",
     "text": [
      "🟦\n",
      "🔴\n"
     ]
    }
   ],
   "source": [
    "icon_mapping = {\n",
    "    ('square', 'blue'): '🟦',\n",
    "    ('circle', 'red'): '🔴',\n",
    "    ('square', 'red'): '🟥',\n",
    "    ('circle', 'blue'): '🔵'\n",
    "}\n",
    "\n",
    "for icon in cfg.icons:\n",
    "    print(icon_mapping[icon.shape, icon.color])"
   ]
  },
  {
   "cell_type": "markdown",
   "metadata": {},
   "source": [
    "**Note:** While lists are more flexible, there is the downside: (generally) individual elements in a list cannot be overridden using Hydra's override mechanism."
   ]
  },
  {
   "cell_type": "markdown",
   "metadata": {},
   "source": [
    "# The defaults list"
   ]
  },
  {
   "cell_type": "markdown",
   "metadata": {},
   "source": [
    "One great feature of Hydra is that it can *compose* configurations, using a defaults list.\n",
    "\n",
    "Consider the [cfg/sample_cfg.yaml](./cfg/sample_cfg.yaml), which uses parameters closer to what I'll use for CMB-ML:\n",
    "\n",
    "```yaml\n",
    "defaults:\n",
    "  - scenario: scenario_512\n",
    "  - splits: all\n",
    "  - _self_\n",
    "\n",
    "preset_strings : [\"d9\", \"s4\", \"f1\"]\n",
    "```\n",
    "\n",
    "Because I have the following directory structure in tutorial configs:\n",
    "```\n",
    "├─ cfg\n",
    "│  ├─ scenario\n",
    "|  |   ├─ scenario_128.yaml\n",
    "|  |   └─ scenario_512.yaml\n",
    "│  ├─ splits\n",
    "│  │   ├─ 1-1.yaml\n",
    "│  │   └─ all.yaml\n",
    "│  └─ sample_cfg.yaml\n",
    "└── tutorial notebooks here\n",
    "```\n",
    "\n",
    "The defaults list tells Hydra to create a key for \"scenario\", where the value is the contents of [scenario_512.yaml](./cfg/scenario/scenario_512.yaml). Similarly, \"splits\" will come from [all.yaml](./cfg/splits/all.yaml)."
   ]
  },
  {
   "cell_type": "code",
   "execution_count": 11,
   "metadata": {},
   "outputs": [
    {
     "name": "stdout",
     "output_type": "stream",
     "text": [
      "scenario:\n",
      "  nside: 512\n",
      "  map_fields: IQU\n",
      "  precision: float\n",
      "  units: uK_CMB\n",
      "splits:\n",
      "  name: '1450'\n",
      "  Train:\n",
      "    n_sims: 1000\n",
      "  Valid:\n",
      "    n_sims: 250\n",
      "  Test:\n",
      "    n_sims: 200\n",
      "preset_strings:\n",
      "- d9\n",
      "- s4\n",
      "- f1\n",
      "\n"
     ]
    }
   ],
   "source": [
    "with initialize(version_base=None, config_path=\"cfg\"):\n",
    "    cfg = compose(config_name='sample_cfg')\n",
    "    print(OmegaConf.to_yaml(cfg))"
   ]
  },
  {
   "cell_type": "markdown",
   "metadata": {},
   "source": [
    "This makes my configurations much shorter. When dealing with the complicated CMB-ML pipeline, this makes it much easier on me to find the settings I need."
   ]
  },
  {
   "cell_type": "markdown",
   "metadata": {},
   "source": [
    "The defaults list is a special list in Hydra. It allows swapping out whole sets of parameters. For instance, if I want to run a set of parameters for debugging, I can choose a simpler scenario and smaller set of splits."
   ]
  },
  {
   "cell_type": "code",
   "execution_count": 12,
   "metadata": {},
   "outputs": [
    {
     "name": "stdout",
     "output_type": "stream",
     "text": [
      "scenario:\n",
      "  nside: 128\n",
      "  map_fields: I\n",
      "  precision: float\n",
      "  units: uK_CMB\n",
      "splits:\n",
      "  name: 1-1\n",
      "  Test:\n",
      "    n_sims: 1\n",
      "preset_strings:\n",
      "- d9\n",
      "- s4\n",
      "- f1\n",
      "\n"
     ]
    }
   ],
   "source": [
    "with initialize(version_base=None, config_path=\"cfg\"):\n",
    "    cfg = compose(config_name='sample_cfg',\n",
    "                  overrides=['scenario=scenario_128', 'splits=\"1-1\"'])\n",
    "    print(OmegaConf.to_yaml(cfg))"
   ]
  },
  {
   "cell_type": "markdown",
   "metadata": {},
   "source": [
    "The defaults list is very powerful and a significant reason behind the adoption of Hydra. I can chain together configurations files, for very modular setups. This could occur if (for instance) the scenario file also had a defaults list. It is how some of the models are set up.\n",
    "\n",
    "There are some extra rules for the defaults list. It has to appear at the top of the file.\n",
    "\n",
    "It must include \"\\_self_\" somewhere on the list, which refers to the remainder of the YAML after the defaults list.\n",
    "\n",
    "Order matters in the defaults list. If I define a parameter in two different places, the last one will take precedence. For instance, if \\_self_ also defined \"scenario.precision\", then whatever is lower on the list will set that parameter."
   ]
  },
  {
   "cell_type": "markdown",
   "metadata": {},
   "source": [
    "# Other features: Interpolation, Addition, and Subtraction"
   ]
  },
  {
   "cell_type": "markdown",
   "metadata": {},
   "source": [
    "I'll introduce three more concepts here. These can be very useful, though it's less frequent. They will be used in some of the following tutorials.\n",
    "\n",
    "**Interpolation**: While the defaults list and use of ordering can be used to set keys in multiple places, I often find that *interpolation* is more convenient. This allows me to set a value and use it elsewhere. Hydra resolves ordering as it builds the configuration, but it resolves interpolation at run time. This allows me to circumvent circularity issues. It also allows me to build strings with multiple values.\n",
    "\n",
    "Interpolation uses the syntax `\"${thing.to.lookup}\"`.\n",
    "\n",
    "**Addition**: When performing overrides, I may want to include a parameter which isn't already present. I can do this with the `+` operator.\n",
    "\n",
    "**Subtraction**: Similarly, when performing overrides, I may want to remove some parameter. This is done with the `~` operator."
   ]
  },
  {
   "cell_type": "markdown",
   "metadata": {},
   "source": [
    "In the following example, I remove `scenario.units`, and add `scenario.map_units` and `scenario.ps_units`. This is contrived, but shows both addition and subtraction. I also add a dataset name, which is composed by interpolation of other keys."
   ]
  },
  {
   "cell_type": "code",
   "execution_count": 13,
   "metadata": {},
   "outputs": [
    {
     "name": "stdout",
     "output_type": "stream",
     "text": [
      "scenario:\n",
      "  nside: 512\n",
      "  map_fields: IQU\n",
      "  precision: float\n",
      "  map_units: K_CMB\n",
      "  ps_units: uK_CMB^2\n",
      "splits:\n",
      "  name: '1450'\n",
      "  Train:\n",
      "    n_sims: 1000\n",
      "  Valid:\n",
      "    n_sims: 250\n",
      "  Test:\n",
      "    n_sims: 200\n",
      "preset_strings:\n",
      "- d9\n",
      "- s4\n",
      "- f1\n",
      "dataset_name: CMB-ML_${scenario.nside}_${splits.name}\n",
      "\n"
     ]
    },
    {
     "data": {
      "text/plain": [
       "'CMB-ML_512_1450'"
      ]
     },
     "execution_count": 13,
     "metadata": {},
     "output_type": "execute_result"
    }
   ],
   "source": [
    "with initialize(version_base=None, config_path=\"cfg\"):\n",
    "    cfg = compose(config_name='sample_cfg',\n",
    "                  overrides=['~scenario.units',\n",
    "                             '+scenario.map_units=\"K_CMB\"',\n",
    "                             '+scenario.ps_units=\"uK_CMB^2\"',\n",
    "                             '+dataset_name=\"CMB-ML_${scenario.nside}_${splits.name}\"',])\n",
    "    print(OmegaConf.to_yaml(cfg))\n",
    "\n",
    "cfg.dataset_name"
   ]
  },
  {
   "cell_type": "markdown",
   "metadata": {},
   "source": [
    "Note how dataset_name in the YAML still shows the interpolation syntax, but when accessed programmatically (cfg.dataset_name), it is fully resolved."
   ]
  },
  {
   "cell_type": "markdown",
   "metadata": {},
   "source": [
    "# Initializing the config"
   ]
  },
  {
   "cell_type": "markdown",
   "metadata": {},
   "source": [
    "Hydra does more than just pull the configuration. Depending on how it's started, we get different results.\n",
    "\n",
    "Most of the development work I've done has used **Python modules** (*.py) files, which is where Hydra really shines. In that case, the `@hydra.main` decorator is used for top-level entry points:\n",
    "\n",
    "```python\n",
    "@hydra.main(version_base=None, config_path=\"cfg\", config_name=\"sample_cfg\")\n",
    "def main(cfg: DictConfig) -> None:\n",
    "    do_something(cfg)\n",
    "```\n",
    "\n",
    "When used this way, it automatically initialized the config, it manages the runtime and logging, and it can be used to run multiple times, sweeping over a set of parameters. In this case, the cfg object is scoped to just the entrypoint.\n",
    "\n",
    "See [this python module](./B_hydra_script_tutorial.py) for a simple functioning example."
   ]
  },
  {
   "cell_type": "markdown",
   "metadata": {},
   "source": [
    "However, in the remaining **Jupyter notebooks**, I use a different instantiation method to make them global. That lets me have interactive access to the configuration. There are precautions to take, since it's a global object, which can otherwise lead to issues. You'll see patterns that look like this."
   ]
  },
  {
   "cell_type": "code",
   "execution_count": 14,
   "metadata": {},
   "outputs": [
    {
     "name": "stdout",
     "output_type": "stream",
     "text": [
      "scenario:\n",
      "  nside: 512\n",
      "  map_fields: IQU\n",
      "  precision: float\n",
      "  units: uK_CMB\n",
      "splits:\n",
      "  name: '1450'\n",
      "  Train:\n",
      "    n_sims: 1000\n",
      "  Valid:\n",
      "    n_sims: 250\n",
      "  Test:\n",
      "    n_sims: 200\n",
      "preset_strings:\n",
      "- d9\n",
      "- s4\n",
      "- f1\n",
      "\n"
     ]
    }
   ],
   "source": [
    "hydra.core.global_hydra.GlobalHydra.instance().clear() # if re-initialize is needed, clear the global hydra instance (in case of multiple calls to initialize)\n",
    "\n",
    "initialize(version_base=None, config_path=\"cfg\")\n",
    "\n",
    "cfg = compose(config_name='sample_cfg')\n",
    "\n",
    "print(OmegaConf.to_yaml(cfg))"
   ]
  },
  {
   "cell_type": "markdown",
   "metadata": {},
   "source": [
    "Hydra is a bit more limited in these notebooks because we can't use logging or sweeping in this interactive form. Similarly, most of the CMB-ML classes were written for modules, so some things may seem strange for a notebook. \n",
    "\n",
    "I've taken care to describe things in these demonstrations such that it translates to either notebook or module use. Hopefully, the differences will not be sources of confusion. Please reach out if they are."
   ]
  },
  {
   "cell_type": "markdown",
   "metadata": {},
   "source": [
    "# Using Environment Variables"
   ]
  },
  {
   "cell_type": "markdown",
   "metadata": {},
   "source": [
    "You won't need to think about environment variables in Hydra configs often -- but you will when setting up CMB-ML for use with your system. If you see `${oc.env:SOME_ENV_VARIABLE}` that's using Hydra's interpolation mechanism in concert with system environment variables. When reading this config, Hydra would try to use the currently set `SOME_ENV_VARIABLE` in the interpolation. \n",
    "\n",
    "It's used as a string, just like other interpolations. If you were to set `SOME_ENV_VARIABLE=Hello`, then the following config:\n",
    "```yaml\n",
    "h_w: \"${oc.env:SOME_ENV_VARIABLE}, World!\"\n",
    "```\n",
    "would give \"Hello, World!\" as the value of `cfg.h_w`.\n",
    "\n",
    "Again, this isn't often used, but may be seen when you set up your local system."
   ]
  },
  {
   "cell_type": "markdown",
   "metadata": {},
   "source": [
    "# Next steps"
   ]
  },
  {
   "cell_type": "markdown",
   "metadata": {},
   "source": [
    "Hydra configurations form the backbone of CMB-ML, so that the modular and scalable code can be customized through structured configurations.\n",
    "\n",
    "This notebook began with simple, flat configurations. It then described structures (hierarchies and lists) that can be used for more modular code. That structure justifies the use of a defaults list which simplifies composition of the configurations. Other tools, such as interpolation, were described. Last, I tried to clear up a potential point of confusion as you transition between notebooks and modules.\n",
    "\n",
    "For more information on how we use Hydra configs, refer to:\n",
    "- [Hydra documentation](https://hydra.cc/docs/intro/)\n",
    "- [The top level configs README](https://github.com/CMB-ML/cmb-ml/blob/dev-package/cmbml/cfg/README.md)\n",
    "- [The pipeline configs README](https://github.com/CMB-ML/cmb-ml/blob/dev-package/cmbml/cfg/pipeline/README.md)\n",
    "\n",
    "Now that some background on Hydra has been established, continue with [setting up your local system](./C_setting_up_local.ipynb). You'll set up a configuration, "
   ]
  }
 ],
 "metadata": {
  "kernelspec": {
   "display_name": "cmb-ml",
   "language": "python",
   "name": "python3"
  },
  "language_info": {
   "codemirror_mode": {
    "name": "ipython",
    "version": 3
   },
   "file_extension": ".py",
   "mimetype": "text/x-python",
   "name": "python",
   "nbconvert_exporter": "python",
   "pygments_lexer": "ipython3",
   "version": "3.9.21"
  }
 },
 "nbformat": 4,
 "nbformat_minor": 2
}
